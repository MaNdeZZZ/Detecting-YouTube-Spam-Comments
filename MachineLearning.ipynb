{
  "cells": [
    {
      "cell_type": "code",
      "execution_count": 1,
      "metadata": {
        "id": "YccpF1ZKbh57"
      },
      "outputs": [],
      "source": [
        "# Import Libraries\n",
        "import pandas as pd\n",
        "import numpy as np\n",
        "import matplotlib.pyplot as plt"
      ]
    },
    {
      "cell_type": "markdown",
      "metadata": {},
      "source": [
        "# Ekplorasi Data & Preprocessing"
      ]
    },
    {
      "cell_type": "code",
      "execution_count": 2,
      "metadata": {},
      "outputs": [],
      "source": [
        "df = pd.read_csv('Youtube-Spam-Dataset.csv')"
      ]
    },
    {
      "cell_type": "code",
      "execution_count": 3,
      "metadata": {},
      "outputs": [
        {
          "name": "stdout",
          "output_type": "stream",
          "text": [
            "Total jumlah baris dan kolom dalam dataset: (1956, 6)\n"
          ]
        }
      ],
      "source": [
        "print(f\"Total jumlah baris dan kolom dalam dataset:\", df.shape)"
      ]
    },
    {
      "cell_type": "code",
      "execution_count": 4,
      "metadata": {},
      "outputs": [
        {
          "data": {
            "application/vnd.microsoft.datawrangler.viewer.v0+json": {
              "columns": [
                {
                  "name": "index",
                  "rawType": "int64",
                  "type": "integer"
                },
                {
                  "name": "COMMENT_ID",
                  "rawType": "object",
                  "type": "string"
                },
                {
                  "name": "AUTHOR",
                  "rawType": "object",
                  "type": "string"
                },
                {
                  "name": "DATE",
                  "rawType": "object",
                  "type": "string"
                },
                {
                  "name": "CONTENT",
                  "rawType": "object",
                  "type": "string"
                },
                {
                  "name": "VIDEO_NAME",
                  "rawType": "object",
                  "type": "string"
                },
                {
                  "name": "CLASS",
                  "rawType": "int64",
                  "type": "integer"
                }
              ],
              "ref": "91354f88-76c6-4a92-bc54-a00d857e37a8",
              "rows": [
                [
                  "0",
                  "LZQPQhLyRh80UYxNuaDWhIGQYNQ96IuCg-AYWqNPjpU",
                  "Julius NM",
                  "2013-11-07T06:20:48",
                  "Huh, anyway check out this you[tube] channel: kobyoshi02",
                  "PSY - GANGNAM STYLE(?????) M/V",
                  "1"
                ],
                [
                  "1",
                  "LZQPQhLyRh_C2cTtd9MvFRJedxydaVW-2sNg5Diuo4A",
                  "adam riyati",
                  "2013-11-07T12:37:15",
                  "Hey guys check out my new channel and our first vid THIS IS US THE  MONKEYS!!! I'm the monkey in the white shirt,please leave a like comment  and please subscribe!!!!",
                  "PSY - GANGNAM STYLE(?????) M/V",
                  "1"
                ],
                [
                  "2",
                  "LZQPQhLyRh9MSZYnf8djyk0gEF9BHDPYrrK-qCczIY8",
                  "Evgeny Murashkin",
                  "2013-11-08T17:34:21",
                  "just for test I have to say murdev.com",
                  "PSY - GANGNAM STYLE(?????) M/V",
                  "1"
                ],
                [
                  "3",
                  "z13jhp0bxqncu512g22wvzkasxmvvzjaz04",
                  "ElNino Melendez",
                  "2013-11-09T08:28:43",
                  "me shaking my sexy ass on my channel enjoy ^_^ ﻿",
                  "PSY - GANGNAM STYLE(?????) M/V",
                  "1"
                ],
                [
                  "4",
                  "z13fwbwp1oujthgqj04chlngpvzmtt3r3dw",
                  "GsMega",
                  "2013-11-10T16:05:38",
                  "watch?v=vtaRGgvGtWQ   Check this out .﻿",
                  "PSY - GANGNAM STYLE(?????) M/V",
                  "1"
                ]
              ],
              "shape": {
                "columns": 6,
                "rows": 5
              }
            },
            "text/html": [
              "<div>\n",
              "<style scoped>\n",
              "    .dataframe tbody tr th:only-of-type {\n",
              "        vertical-align: middle;\n",
              "    }\n",
              "\n",
              "    .dataframe tbody tr th {\n",
              "        vertical-align: top;\n",
              "    }\n",
              "\n",
              "    .dataframe thead th {\n",
              "        text-align: right;\n",
              "    }\n",
              "</style>\n",
              "<table border=\"1\" class=\"dataframe\">\n",
              "  <thead>\n",
              "    <tr style=\"text-align: right;\">\n",
              "      <th></th>\n",
              "      <th>COMMENT_ID</th>\n",
              "      <th>AUTHOR</th>\n",
              "      <th>DATE</th>\n",
              "      <th>CONTENT</th>\n",
              "      <th>VIDEO_NAME</th>\n",
              "      <th>CLASS</th>\n",
              "    </tr>\n",
              "  </thead>\n",
              "  <tbody>\n",
              "    <tr>\n",
              "      <th>0</th>\n",
              "      <td>LZQPQhLyRh80UYxNuaDWhIGQYNQ96IuCg-AYWqNPjpU</td>\n",
              "      <td>Julius NM</td>\n",
              "      <td>2013-11-07T06:20:48</td>\n",
              "      <td>Huh, anyway check out this you[tube] channel: ...</td>\n",
              "      <td>PSY - GANGNAM STYLE(?????) M/V</td>\n",
              "      <td>1</td>\n",
              "    </tr>\n",
              "    <tr>\n",
              "      <th>1</th>\n",
              "      <td>LZQPQhLyRh_C2cTtd9MvFRJedxydaVW-2sNg5Diuo4A</td>\n",
              "      <td>adam riyati</td>\n",
              "      <td>2013-11-07T12:37:15</td>\n",
              "      <td>Hey guys check out my new channel and our firs...</td>\n",
              "      <td>PSY - GANGNAM STYLE(?????) M/V</td>\n",
              "      <td>1</td>\n",
              "    </tr>\n",
              "    <tr>\n",
              "      <th>2</th>\n",
              "      <td>LZQPQhLyRh9MSZYnf8djyk0gEF9BHDPYrrK-qCczIY8</td>\n",
              "      <td>Evgeny Murashkin</td>\n",
              "      <td>2013-11-08T17:34:21</td>\n",
              "      <td>just for test I have to say murdev.com</td>\n",
              "      <td>PSY - GANGNAM STYLE(?????) M/V</td>\n",
              "      <td>1</td>\n",
              "    </tr>\n",
              "    <tr>\n",
              "      <th>3</th>\n",
              "      <td>z13jhp0bxqncu512g22wvzkasxmvvzjaz04</td>\n",
              "      <td>ElNino Melendez</td>\n",
              "      <td>2013-11-09T08:28:43</td>\n",
              "      <td>me shaking my sexy ass on my channel enjoy ^_^ ﻿</td>\n",
              "      <td>PSY - GANGNAM STYLE(?????) M/V</td>\n",
              "      <td>1</td>\n",
              "    </tr>\n",
              "    <tr>\n",
              "      <th>4</th>\n",
              "      <td>z13fwbwp1oujthgqj04chlngpvzmtt3r3dw</td>\n",
              "      <td>GsMega</td>\n",
              "      <td>2013-11-10T16:05:38</td>\n",
              "      <td>watch?v=vtaRGgvGtWQ   Check this out .﻿</td>\n",
              "      <td>PSY - GANGNAM STYLE(?????) M/V</td>\n",
              "      <td>1</td>\n",
              "    </tr>\n",
              "  </tbody>\n",
              "</table>\n",
              "</div>"
            ],
            "text/plain": [
              "                                    COMMENT_ID            AUTHOR  \\\n",
              "0  LZQPQhLyRh80UYxNuaDWhIGQYNQ96IuCg-AYWqNPjpU         Julius NM   \n",
              "1  LZQPQhLyRh_C2cTtd9MvFRJedxydaVW-2sNg5Diuo4A       adam riyati   \n",
              "2  LZQPQhLyRh9MSZYnf8djyk0gEF9BHDPYrrK-qCczIY8  Evgeny Murashkin   \n",
              "3          z13jhp0bxqncu512g22wvzkasxmvvzjaz04   ElNino Melendez   \n",
              "4          z13fwbwp1oujthgqj04chlngpvzmtt3r3dw            GsMega   \n",
              "\n",
              "                  DATE                                            CONTENT  \\\n",
              "0  2013-11-07T06:20:48  Huh, anyway check out this you[tube] channel: ...   \n",
              "1  2013-11-07T12:37:15  Hey guys check out my new channel and our firs...   \n",
              "2  2013-11-08T17:34:21             just for test I have to say murdev.com   \n",
              "3  2013-11-09T08:28:43   me shaking my sexy ass on my channel enjoy ^_^ ﻿   \n",
              "4  2013-11-10T16:05:38            watch?v=vtaRGgvGtWQ   Check this out .﻿   \n",
              "\n",
              "                       VIDEO_NAME  CLASS  \n",
              "0  PSY - GANGNAM STYLE(?????) M/V      1  \n",
              "1  PSY - GANGNAM STYLE(?????) M/V      1  \n",
              "2  PSY - GANGNAM STYLE(?????) M/V      1  \n",
              "3  PSY - GANGNAM STYLE(?????) M/V      1  \n",
              "4  PSY - GANGNAM STYLE(?????) M/V      1  "
            ]
          },
          "execution_count": 4,
          "metadata": {},
          "output_type": "execute_result"
        }
      ],
      "source": [
        "df.head()"
      ]
    },
    {
      "cell_type": "code",
      "execution_count": 5,
      "metadata": {},
      "outputs": [
        {
          "name": "stdout",
          "output_type": "stream",
          "text": [
            "<class 'pandas.core.frame.DataFrame'>\n",
            "RangeIndex: 1956 entries, 0 to 1955\n",
            "Data columns (total 6 columns):\n",
            " #   Column      Non-Null Count  Dtype \n",
            "---  ------      --------------  ----- \n",
            " 0   COMMENT_ID  1956 non-null   object\n",
            " 1   AUTHOR      1956 non-null   object\n",
            " 2   DATE        1711 non-null   object\n",
            " 3   CONTENT     1956 non-null   object\n",
            " 4   VIDEO_NAME  1956 non-null   object\n",
            " 5   CLASS       1956 non-null   int64 \n",
            "dtypes: int64(1), object(5)\n",
            "memory usage: 91.8+ KB\n"
          ]
        }
      ],
      "source": [
        "df.info()"
      ]
    },
    {
      "cell_type": "code",
      "execution_count": 6,
      "metadata": {},
      "outputs": [
        {
          "data": {
            "application/vnd.microsoft.datawrangler.viewer.v0+json": {
              "columns": [
                {
                  "name": "index",
                  "rawType": "object",
                  "type": "string"
                },
                {
                  "name": "CLASS",
                  "rawType": "float64",
                  "type": "float"
                }
              ],
              "ref": "367c26fe-4b40-4465-a7f2-a3b3bc12b7de",
              "rows": [
                [
                  "count",
                  "1956.0"
                ],
                [
                  "mean",
                  "0.5138036809815951"
                ],
                [
                  "std",
                  "0.4999372342259292"
                ],
                [
                  "min",
                  "0.0"
                ],
                [
                  "25%",
                  "0.0"
                ],
                [
                  "50%",
                  "1.0"
                ],
                [
                  "75%",
                  "1.0"
                ],
                [
                  "max",
                  "1.0"
                ]
              ],
              "shape": {
                "columns": 1,
                "rows": 8
              }
            },
            "text/html": [
              "<div>\n",
              "<style scoped>\n",
              "    .dataframe tbody tr th:only-of-type {\n",
              "        vertical-align: middle;\n",
              "    }\n",
              "\n",
              "    .dataframe tbody tr th {\n",
              "        vertical-align: top;\n",
              "    }\n",
              "\n",
              "    .dataframe thead th {\n",
              "        text-align: right;\n",
              "    }\n",
              "</style>\n",
              "<table border=\"1\" class=\"dataframe\">\n",
              "  <thead>\n",
              "    <tr style=\"text-align: right;\">\n",
              "      <th></th>\n",
              "      <th>CLASS</th>\n",
              "    </tr>\n",
              "  </thead>\n",
              "  <tbody>\n",
              "    <tr>\n",
              "      <th>count</th>\n",
              "      <td>1956.000000</td>\n",
              "    </tr>\n",
              "    <tr>\n",
              "      <th>mean</th>\n",
              "      <td>0.513804</td>\n",
              "    </tr>\n",
              "    <tr>\n",
              "      <th>std</th>\n",
              "      <td>0.499937</td>\n",
              "    </tr>\n",
              "    <tr>\n",
              "      <th>min</th>\n",
              "      <td>0.000000</td>\n",
              "    </tr>\n",
              "    <tr>\n",
              "      <th>25%</th>\n",
              "      <td>0.000000</td>\n",
              "    </tr>\n",
              "    <tr>\n",
              "      <th>50%</th>\n",
              "      <td>1.000000</td>\n",
              "    </tr>\n",
              "    <tr>\n",
              "      <th>75%</th>\n",
              "      <td>1.000000</td>\n",
              "    </tr>\n",
              "    <tr>\n",
              "      <th>max</th>\n",
              "      <td>1.000000</td>\n",
              "    </tr>\n",
              "  </tbody>\n",
              "</table>\n",
              "</div>"
            ],
            "text/plain": [
              "             CLASS\n",
              "count  1956.000000\n",
              "mean      0.513804\n",
              "std       0.499937\n",
              "min       0.000000\n",
              "25%       0.000000\n",
              "50%       1.000000\n",
              "75%       1.000000\n",
              "max       1.000000"
            ]
          },
          "execution_count": 6,
          "metadata": {},
          "output_type": "execute_result"
        }
      ],
      "source": [
        "df.describe()"
      ]
    },
    {
      "cell_type": "code",
      "execution_count": 7,
      "metadata": {},
      "outputs": [
        {
          "name": "stdout",
          "output_type": "stream",
          "text": [
            "COMMENT_ID      0\n",
            "AUTHOR          0\n",
            "DATE          245\n",
            "CONTENT         0\n",
            "VIDEO_NAME      0\n",
            "CLASS           0\n",
            "dtype: int64\n"
          ]
        }
      ],
      "source": [
        "print(df.isnull().sum())"
      ]
    },
    {
      "cell_type": "code",
      "execution_count": 8,
      "metadata": {},
      "outputs": [
        {
          "name": "stdout",
          "output_type": "stream",
          "text": [
            "Duplicate Values:\n",
            " 0\n"
          ]
        }
      ],
      "source": [
        "df = df.drop_duplicates()\n",
        "print(\"Duplicate Values:\\n\", df.duplicated().sum())"
      ]
    },
    {
      "cell_type": "code",
      "execution_count": 9,
      "metadata": {},
      "outputs": [
        {
          "name": "stdout",
          "output_type": "stream",
          "text": [
            "\n",
            "Distribusi kelas (Spam: 1, Ham/Non-Spam: 0):\n",
            "CLASS\n",
            "1    1003\n",
            "0     950\n",
            "Name: count, dtype: int64\n"
          ]
        }
      ],
      "source": [
        "print(\"\\nDistribusi kelas (Spam: 1, Ham/Non-Spam: 0):\")\n",
        "print(df['CLASS'].value_counts())"
      ]
    },
    {
      "cell_type": "markdown",
      "metadata": {
        "id": "I5PFe6dtcE_y"
      },
      "source": [
        "# Visualisasi distribusi kelas"
      ]
    },
    {
      "cell_type": "code",
      "execution_count": 10,
      "metadata": {
        "colab": {
          "base_uri": "https://localhost:8080/",
          "height": 487
        },
        "id": "eChTG_EIeV4x",
        "outputId": "f1d3c418-cae3-45aa-d4bf-949098a0c1c4"
      },
      "outputs": [
        {
          "data": {
            "image/png": "[encoded data removed]",
            "text/plain": [
              "<Figure size 700x500 with 1 Axes>"
            ]
          },
          "metadata": {},
          "output_type": "display_data"
        }
      ],
      "source": [
        "plt.figure(figsize=(7, 5))\n",
        "df['CLASS'].value_counts().plot(kind='bar', color=['skyblue', 'lightcoral'])\n",
        "plt.title('Distribusi Komentar Spam (1) vs. Ham (0)')\n",
        "plt.xlabel('Class')\n",
        "plt.ylabel('Jumlah Komentar')\n",
        "plt.xticks(ticks=[0, 1], labels=['Ham (0)', 'Spam (1)'], rotation=0)\n",
        "plt.grid(axis='y', linestyle='--', alpha=0.7)\n",
        "plt.show()"
      ]
    },
    {
      "cell_type": "markdown",
      "metadata": {
        "id": "IRKpTOgBe1oH"
      },
      "source": [
        "# Pembersihan Teks & Tokenisasi"
      ]
    },
    {
      "cell_type": "code",
      "execution_count": 11,
      "metadata": {
        "colab": {
          "base_uri": "https://localhost:8080/"
        },
        "id": "zlQHS1Ome3wj",
        "outputId": "4d2fe010-60d5-4b16-a316-ad5b002de39e"
      },
      "outputs": [
        {
          "name": "stdout",
          "output_type": "stream",
          "text": [
            "\n",
            "Melakukan pembersihan teks dan tokenisasi manual...\n",
            "\n",
            "Contoh komentar asli dan setelah preprocessing:\n",
            "Asli: Huh, anyway check out this you[tube] channel: kobyoshi02\n",
            "Diproses: ['huh', 'anyway', 'check', 'out', 'this', 'youtube', 'channel', 'kobyoshi']\n"
          ]
        }
      ],
      "source": [
        "print(\"\\nMelakukan pembersihan teks dan tokenisasi manual...\")\n",
        "def preprocess_text_manual(text):\n",
        "    # Memeriksa apakah input adalah string. Jika bukan, konversi ke string kosong atau tangani sesuai kebutuhan.\n",
        "    if not isinstance(text, str):\n",
        "        text = str(text) # Konversi ke string jika bukan\n",
        "\n",
        "    # Lowercasing\n",
        "    text = text.lower()\n",
        "    # Hapus karakter non-alfabetik (selain huruf dan spasi)\n",
        "    cleaned_text = ''.join(char for char in text if 'a' <= char <= 'z' or char.isspace())\n",
        "    # Tokenisasi manual dengan memisahkan berdasarkan spasi\n",
        "    tokens = cleaned_text.split()\n",
        "    return tokens\n",
        "\n",
        "# Fungsi preprocessing ke kolom 'CONTENT'\n",
        "# .astype(str) untuk memastikan semua entri adalah string sebelum diproses\n",
        "df['PROCESSED_CONTENT'] = df['CONTENT'].astype(str).apply(preprocess_text_manual)\n",
        "\n",
        "print(\"\\nContoh komentar asli dan setelah preprocessing:\")\n",
        "# Memastikan indeks yang diambil ada dan bukan NaN\n",
        "if len(df) > 0:\n",
        "    print(f\"Asli: {df['CONTENT'].iloc[0]}\")\n",
        "    print(f\"Diproses: {df['PROCESSED_CONTENT'].iloc[0]}\")\n",
        "else:\n",
        "    print(\"Dataset kosong, tidak ada contoh komentar untuk ditampilkan.\")"
      ]
    },
    {
      "cell_type": "markdown",
      "metadata": {
        "id": "xtRwsixKfW30"
      },
      "source": [
        "# Split Data (Manual Train-Test Split)"
      ]
    },
    {
      "cell_type": "code",
      "execution_count": 12,
      "metadata": {
        "colab": {
          "base_uri": "https://localhost:8080/"
        },
        "id": "x_8BYIR8fYjI",
        "outputId": "71027516-0b13-4400-e4eb-412d0220d263"
      },
      "outputs": [
        {
          "name": "stdout",
          "output_type": "stream",
          "text": [
            "\n",
            "Membagi dataset menjadi data training dan testing secara manual...\n",
            "Ukuran df training: 1562 komentar\n",
            "Ukuran df testing: 391 komentar\n"
          ]
        }
      ],
      "source": [
        "print(\"\\nMembagi dataset menjadi data training dan testing secara manual...\")\n",
        "# Dapatkan indeks data\n",
        "indices = np.arange(len(df))\n",
        "np.random.shuffle(indices) # Acak indeks\n",
        "\n",
        "train_size = int(0.8 * len(df)) # 80% untuk training\n",
        "train_indices = indices[:train_size]\n",
        "test_indices = indices[train_size:]\n",
        "\n",
        "# Memisahkan data komentar dan label berdasarkan indeks yang sudah diacak\n",
        "X_train_comments = [df['PROCESSED_CONTENT'].iloc[i] for i in train_indices]\n",
        "y_train = [df['CLASS'].iloc[i] for i in train_indices]\n",
        "X_test_comments = [df['PROCESSED_CONTENT'].iloc[i] for i in test_indices]\n",
        "y_test = [df['CLASS'].iloc[i] for i in test_indices]\n",
        "\n",
        "print(f\"Ukuran df training: {len(X_train_comments)} komentar\")\n",
        "print(f\"Ukuran df testing: {len(X_test_comments)} komentar\")"
      ]
    },
    {
      "cell_type": "markdown",
      "metadata": {
        "id": "nqzngjshffvx"
      },
      "source": [
        "# Membangun Kosakata & Feature Extraction (Manual Bag-of-Words)"
      ]
    },
    {
      "cell_type": "code",
      "execution_count": 13,
      "metadata": {
        "colab": {
          "base_uri": "https://localhost:8080/"
        },
        "id": "25uFsaVAflz7",
        "outputId": "0f661218-a1e4-4d0d-9aa9-ca48a4f21060"
      },
      "outputs": [
        {
          "name": "stdout",
          "output_type": "stream",
          "text": [
            "\n",
            "Membangun kosakata dan fungsi feature extraction manual (Bag-of-Words)...\n",
            "Ukuran kosakata unik (dari data training): 3465 kata\n"
          ]
        }
      ],
      "source": [
        "print(\"\\nMembangun kosakata dan fungsi feature extraction manual (Bag-of-Words)...\")\n",
        "# Membangun kosakata dari data training\n",
        "vocabulary = {}\n",
        "word_index = 0\n",
        "for tokens in X_train_comments:\n",
        "    for token in tokens:\n",
        "        if token not in vocabulary:\n",
        "            vocabulary[token] = word_index\n",
        "            word_index += 1\n",
        "\n",
        "print(f\"Ukuran kosakata unik (dari data training): {len(vocabulary)} kata\")\n",
        "# print(f\"Beberapa contoh kata dalam kosakata: {list(vocabulary.keys())[:10]}\") # Untuk debugging\n",
        "\n",
        "# Fungsi untuk membuat vektor Bag-of-Words (frekuensi)\n",
        "def create_bow_vector_manual(tokens, vocab):\n",
        "    vector = np.zeros(len(vocab))\n",
        "    for token in tokens:\n",
        "        if token in vocab:\n",
        "            vector[vocab[token]] += 1\n",
        "    return vector\n",
        "\n",
        "# Fungsi untuk membuat vektor Bag-of-Words (biner - kehadiran)\n",
        "def create_binary_bow_vector_manual(tokens, vocab):\n",
        "    vector = np.zeros(len(vocab))\n",
        "    for token in tokens:\n",
        "        if token in vocab:\n",
        "            vector[vocab[token]] = 1 # 1 jika ada, 0 jika tidak\n",
        "    return vector"
      ]
    },
    {
      "cell_type": "markdown",
      "metadata": {
        "id": "78dNfUPGft2U"
      },
      "source": [
        "# Pembangungan ModelBaseline"
      ]
    },
    {
      "cell_type": "code",
      "execution_count": 14,
      "metadata": {
        "colab": {
          "base_uri": "https://localhost:8080/"
        },
        "id": "TlG8uLxSfjr_",
        "outputId": "27bc036d-724e-460c-fc8e-082c30e91ddd"
      },
      "outputs": [
        {
          "name": "stdout",
          "output_type": "stream",
          "text": [
            "\n",
            "--- Memulai Tahap Pembangunan Model dan Eksplorasi ---\n",
            "Contoh prediksi Manual Naive Bayes: [0, 1, 1, 1, 0, 1, 1, 1, 1, 1]\n"
          ]
        }
      ],
      "source": [
        "print(\"\\n--- Memulai Tahap Pembangunan Model dan Eksplorasi ---\")\n",
        "\n",
        "# Implementasi Naive Bayes Classifier secara manual\n",
        "class ManualNaiveBayes:\n",
        "    def __init__(self, alpha=1.0, model_type='multinomial'):\n",
        "        self.alpha = alpha # Parameter Laplace smoothing\n",
        "        self.model_type = model_type # 'multinomial' atau 'bernoulli'\n",
        "        self.class_priors = {} # P(Class)\n",
        "        self.word_probabilities = {} # P(word|Class)\n",
        "        self.vocabulary = None\n",
        "        self.unique_classes = []\n",
        "\n",
        "    def fit(self, X_comments, y, vocabulary):\n",
        "        self.vocabulary = vocabulary\n",
        "        self.unique_classes = sorted(list(set(y)))\n",
        "        num_samples = len(X_comments)\n",
        "\n",
        "        # Inisialisasi hitungan untuk setiap kata di setiap kelas\n",
        "        word_counts_per_class = {c: np.zeros(len(vocabulary)) for c in self.unique_classes}\n",
        "        class_counts = {c: 0 for c in self.unique_classes}\n",
        "\n",
        "        for i in range(num_samples):\n",
        "            current_class = y[i]\n",
        "            class_counts[current_class] += 1\n",
        "\n",
        "            # Buat vektor fitur tergantung pada tipe model\n",
        "            if self.model_type == 'multinomial':\n",
        "                vector = create_bow_vector_manual(X_comments[i], self.vocabulary)\n",
        "            elif self.model_type == 'bernoulli':\n",
        "                vector = create_binary_bow_vector_manual(X_comments[i], self.vocabulary)\n",
        "            else:\n",
        "                raise ValueError(\"model_type harus 'multinomial' atau 'bernoulli'\")\n",
        "\n",
        "            word_counts_per_class[current_class] += vector\n",
        "\n",
        "        # Hitung probabilitas prior P(C)\n",
        "        for c in self.unique_classes:\n",
        "            self.class_priors[c] = class_counts[c] / num_samples\n",
        "\n",
        "        # Hitung probabilitas likelihood P(word|C) dengan Laplace Smoothing\n",
        "        for c in self.unique_classes:\n",
        "            if self.model_type == 'multinomial':\n",
        "                # Untuk Multinomial, total kata di kelas C + (alpha * ukuran_vocab)\n",
        "                total_words_in_class_c = np.sum(word_counts_per_class[c]) + self.alpha * len(vocabulary)\n",
        "                # Pastikan total_words_in_class_c tidak nol\n",
        "                if total_words_in_class_c == 0:\n",
        "                    self.word_probabilities[c] = np.zeros(len(vocabulary)) # Hindari pembagian nol\n",
        "                else:\n",
        "                    self.word_probabilities[c] = (word_counts_per_class[c] + self.alpha) / total_words_in_class_c\n",
        "            elif self.model_type == 'bernoulli':\n",
        "                # Untuk Bernoulli, P(word|C) = (jumlah dokumen kelas C yang mengandung kata + alpha) / (jumlah dokumen kelas C + 2*alpha)\n",
        "                num_docs_in_class_c = class_counts[c]\n",
        "                denominator = (num_docs_in_class_c + 2 * self.alpha)\n",
        "                if denominator == 0:\n",
        "                    self.word_probabilities[c] = np.zeros(len(vocabulary)) # Hindari pembagian nol\n",
        "                else:\n",
        "                    self.word_probabilities[c] = (word_counts_per_class[c] + self.alpha) / denominator\n",
        "\n",
        "    def predict(self, X_comments):\n",
        "        predictions = []\n",
        "        for tokens in X_comments:\n",
        "            # Inisialisasi skor log-posterior untuk setiap kelas (mulai dengan log prior)\n",
        "            scores = {c: np.log(self.class_priors[c]) for c in self.unique_classes}\n",
        "\n",
        "            # Buat vektor fitur untuk komentar saat ini (sesuai model_type)\n",
        "            comment_vector = None\n",
        "            if self.model_type == 'multinomial':\n",
        "                comment_vector = create_bow_vector_manual(tokens, self.vocabulary)\n",
        "            elif self.model_type == 'bernoulli':\n",
        "                comment_vector = create_binary_bow_vector_manual(tokens, self.vocabulary)\n",
        "\n",
        "            # Hitung skor log-likelihood untuk setiap kata\n",
        "            for c in scores:\n",
        "                for i, feature_value in enumerate(comment_vector):\n",
        "                    if i < len(self.vocabulary): # Pastikan indeks valid\n",
        "                        word_prob = self.word_probabilities[c][i]\n",
        "\n",
        "                        if self.model_type == 'multinomial':\n",
        "                            # Tambahkan log(P(word|class)) * frekuensi kata\n",
        "                            # Tambah epsilon untuk hindari log(0) jika word_prob sangat kecil\n",
        "                            scores[c] += feature_value * np.log(word_prob + 1e-9)\n",
        "                        elif self.model_type == 'bernoulli':\n",
        "                            # Jika kata ada, tambahkan log(P(word|class))\n",
        "                            if feature_value > 0: # Word is present\n",
        "                                scores[c] += np.log(word_prob + 1e-9)\n",
        "                            # Jika kata tidak ada, tambahkan log(1 - P(word|class))\n",
        "                            else: # Word is not present\n",
        "                                scores[c] += np.log(1 - word_prob + 1e-9)\n",
        "\n",
        "            # Pilih kelas dengan skor log-posterior tertinggi\n",
        "            predicted_class = max(scores, key=scores.get)\n",
        "            predictions.append(predicted_class)\n",
        "        return predictions\n",
        "    \n",
        "model_mnb_baseline = ManualNaiveBayes(alpha=1.0, model_type='multinomial')\n",
        "model_mnb_baseline.fit(X_train_comments, y_train, vocabulary)\n",
        "predictions_mnb_baseline = model_mnb_baseline.predict(X_test_comments)\n",
        "print(f\"Contoh prediksi Manual Naive Bayes: {predictions_mnb_baseline[:10]}\")"
      ]
    },
    {
      "cell_type": "markdown",
      "metadata": {
        "id": "Yj1zTEGlgBKt"
      },
      "source": [
        "# Membangun 3 Skema Model"
      ]
    },
    {
      "cell_type": "code",
      "execution_count": 15,
      "metadata": {},
      "outputs": [
        {
          "name": "stdout",
          "output_type": "stream",
          "text": [
            "\n",
            "--- Training Bernoulli Naive Bayes dengan Hyperparameter Tuning ---\n",
            "Training Bernoulli Naive Bayes selesai untuk alphas: [0.01, 0.1, 1.0, 5.0, 10.0]\n",
            "Contoh prediksi untuk alpha=1.0: [0 1 0 1 0 1 1 1 1 1]\n"
          ]
        }
      ],
      "source": [
        "print(\"\\n--- Training Bernoulli Naive Bayes dengan Hyperparameter Tuning ---\")\n",
        "\n",
        "# Fungsi buat vektor fitur biner dari token (sesuai vocabulary)\n",
        "def create_binary_feature_matrix(token_lists, vocab):\n",
        "    matrix = np.zeros((len(token_lists), len(vocab)), dtype=int)\n",
        "    for i, tokens in enumerate(token_lists):\n",
        "        for token in tokens:\n",
        "            if token in vocab:\n",
        "                matrix[i, vocab[token]] = 1\n",
        "    return matrix\n",
        "\n",
        "# Fungsi training Bernoulli Naive Bayes\n",
        "def train_bernoulli_nb(X, y, alpha=1.0):\n",
        "    n_samples, n_features = X.shape\n",
        "    classes = np.unique(y)\n",
        "    class_priors = {}\n",
        "    feature_probs = {}\n",
        "\n",
        "    for c in classes:\n",
        "        X_c = X[y == c]\n",
        "        class_priors[c] = len(X_c) / n_samples\n",
        "        feature_probs[c] = (np.sum(X_c, axis=0) + alpha) / (X_c.shape[0] + 2 * alpha)\n",
        "    \n",
        "    return class_priors, feature_probs\n",
        "\n",
        "# Fungsi prediksi Bernoulli Naive Bayes\n",
        "def predict_bernoulli_nb(X, class_priors, feature_probs):\n",
        "    predictions = []\n",
        "    epsilon = 1e-9  \n",
        "    for x in X:\n",
        "        log_probs = {}\n",
        "        for c in class_priors:\n",
        "            log_prob = np.log(class_priors[c] + epsilon)\n",
        "            probs = feature_probs[c]\n",
        "            log_prob += np.sum(x * np.log(probs + epsilon) + (1 - x) * np.log(1 - probs + epsilon))\n",
        "            log_probs[c] = log_prob\n",
        "        predictions.append(max(log_probs, key=log_probs.get))\n",
        "    return np.array(predictions)\n",
        "\n",
        "# Membuat fitur biner untuk train dan test\n",
        "X_train_bin = create_binary_feature_matrix(X_train_comments, vocabulary)\n",
        "X_test_bin = create_binary_feature_matrix(X_test_comments, vocabulary)\n",
        "\n",
        "alphas = [0.01, 0.1, 1.0, 5.0, 10.0]\n",
        "bernoulli_results = []\n",
        "\n",
        "# Variabel untuk menyimpan hasil prediksi tiap alpha\n",
        "y_pred_alpha_001 = y_pred_alpha_01 = y_pred_alpha_1 = y_pred_alpha_5 = y_pred_alpha_10 = None\n",
        "\n",
        "for alpha in alphas:\n",
        "    class_priors, feature_probs = train_bernoulli_nb(X_train_bin, np.array(y_train), alpha=alpha)\n",
        "    y_pred = predict_bernoulli_nb(X_test_bin, class_priors, feature_probs)\n",
        "\n",
        "    # Simpan hasil untuk evaluasi\n",
        "    bernoulli_results.append((alpha, y_pred))\n",
        "\n",
        "    # Simpan ke variabel khusus jika alpha cocok\n",
        "    if alpha == 0.01:\n",
        "        y_pred_alpha_001 = y_pred\n",
        "    elif alpha == 0.1:\n",
        "        y_pred_alpha_01 = y_pred\n",
        "    elif alpha == 1.0:\n",
        "        y_pred_alpha_1 = y_pred\n",
        "    elif alpha == 5.0:\n",
        "        y_pred_alpha_5 = y_pred\n",
        "    elif alpha == 10.0:\n",
        "        y_pred_alpha_10 = y_pred\n",
        "\n",
        "print(\"Training Bernoulli Naive Bayes selesai untuk alphas:\", alphas)\n",
        "\n",
        "# Contoh akses hasil prediksi untuk alpha tertentu (misal alpha=1.0)\n",
        "print(f\"Contoh prediksi untuk alpha=1.0: {y_pred_alpha_1[:10]}\")\n"
      ]
    },
    {
      "cell_type": "code",
      "execution_count": 16,
      "metadata": {},
      "outputs": [
        {
          "name": "stdout",
          "output_type": "stream",
          "text": [
            "\n",
            "--- Training Logistic Regression dengan Hyperparameter Tuning ---\n",
            "Training Logistic Regression selesai untuk kombinasi learning rate dan epochs.\n",
            "Contoh prediksi untuk lr=0.01 dan epochs=1000: [0 1 1 1 0 1 1 1 1 1]\n"
          ]
        }
      ],
      "source": [
        "print(\"\\n--- Training Logistic Regression dengan Hyperparameter Tuning ---\")\n",
        "\n",
        "# Fungsi sigmoid\n",
        "def sigmoid(z):\n",
        "    return 1 / (1 + np.exp(-z))\n",
        "\n",
        "# Fungsi buat matriks fitur Bag-of-Words frekuensi (multinomial BOW)\n",
        "def create_bow_feature_matrix(token_lists, vocab):\n",
        "    matrix = np.zeros((len(token_lists), len(vocab)), dtype=float)\n",
        "    for i, tokens in enumerate(token_lists):\n",
        "        for token in tokens:\n",
        "            if token in vocab:\n",
        "                matrix[i, vocab[token]] += 1\n",
        "    return matrix\n",
        "\n",
        "# Training Logistic Regression manual\n",
        "def train_logistic_regression(X, y, learning_rate=0.01, n_epochs=1000):\n",
        "    n_samples, n_features = X.shape\n",
        "    weights = np.zeros(n_features)\n",
        "    bias = 0\n",
        "\n",
        "    for _ in range(n_epochs):\n",
        "        linear_model = np.dot(X, weights) + bias\n",
        "        y_predicted = sigmoid(linear_model)\n",
        "\n",
        "        dw = (1 / n_samples) * np.dot(X.T, (y_predicted - y))\n",
        "        db = (1 / n_samples) * np.sum(y_predicted - y)\n",
        "\n",
        "        weights -= learning_rate * dw\n",
        "        bias -= learning_rate * db\n",
        "\n",
        "    return weights, bias\n",
        "\n",
        "# Prediksi Logistic Regression\n",
        "def predict_logistic_regression(X, weights, bias, threshold=0.5):\n",
        "    linear_model = np.dot(X, weights) + bias\n",
        "    y_predicted = sigmoid(linear_model)\n",
        "    return np.where(y_predicted >= threshold, 1, 0)\n",
        "\n",
        "# Membuat fitur BOW frekuensi (sesuai vocabulary)\n",
        "X_train_vec = create_bow_feature_matrix(X_train_comments, vocabulary)\n",
        "X_test_vec = create_bow_feature_matrix(X_test_comments, vocabulary)\n",
        "\n",
        "# Hyperparameter tuning (learning rate & epochs)\n",
        "lr_rates = [0.001, 0.01, 0.1]\n",
        "epochs_list = [500, 1000, 2000]\n",
        "logreg_results = []\n",
        "\n",
        "for lr in lr_rates:\n",
        "    for epochs in epochs_list:\n",
        "        weights, bias = train_logistic_regression(X_train_vec, np.array(y_train), learning_rate=lr, n_epochs=epochs)\n",
        "        y_pred = predict_logistic_regression(X_test_vec, weights, bias)\n",
        "        logreg_results.append((lr, epochs, y_pred))\n",
        "\n",
        "print(\"Training Logistic Regression selesai untuk kombinasi learning rate dan epochs.\")\n",
        "\n",
        "# Menampilkan contoh prediksi untuk lr=0.01 dan epochs=1000\n",
        "idx = [(lr, ep) for lr in lr_rates for ep in epochs_list].index((0.01, 1000))\n",
        "print(f\"Contoh prediksi untuk lr=0.01 dan epochs=1000: {logreg_results[idx][2][:10]}\")\n"
      ]
    },
    {
      "cell_type": "code",
      "execution_count": 17,
      "metadata": {},
      "outputs": [
        {
          "name": "stdout",
          "output_type": "stream",
          "text": [
            "\n",
            "--- Training Perceptron dengan Hyperparameter Tuning ---\n",
            "Training Perceptron selesai untuk semua kombinasi learning rate dan epochs.\n",
            "Contoh prediksi Perceptron untuk lr=0.01 dan epochs=1000: [0 1 1 1 0 1 1 1 1 1]\n"
          ]
        }
      ],
      "source": [
        "print(\"\\n--- Training Perceptron dengan Hyperparameter Tuning ---\")\n",
        "\n",
        "# Fungsi aktivasi step (threshold)\n",
        "def step_function(x):\n",
        "    return np.where(x >= 0, 1, 0)\n",
        "\n",
        "# Training Perceptron manual\n",
        "def train_perceptron(X, y, learning_rate=0.01, n_epochs=1000):\n",
        "    n_samples, n_features = X.shape\n",
        "    weights = np.zeros(n_features)\n",
        "    bias = 0\n",
        "\n",
        "    for epoch in range(n_epochs):\n",
        "        for idx in range(n_samples):\n",
        "            linear_output = np.dot(X[idx], weights) + bias\n",
        "            y_pred = step_function(linear_output)\n",
        "            update = learning_rate * (y[idx] - y_pred)\n",
        "            weights += update * X[idx]\n",
        "            bias += update\n",
        "    return weights, bias\n",
        "\n",
        "# Prediksi Perceptron\n",
        "def predict_perceptron(X, weights, bias):\n",
        "    linear_output = np.dot(X, weights) + bias\n",
        "    return step_function(linear_output)\n",
        "\n",
        "\n",
        "X_train_vec = create_bow_feature_matrix(X_train_comments, vocabulary)\n",
        "X_test_vec = create_bow_feature_matrix(X_test_comments, vocabulary)\n",
        "\n",
        "# Hyperparameter tuning learning rate dan epochs\n",
        "lr_rates = [0.001, 0.01, 0.1]\n",
        "epochs_list = [500, 1000, 2000]\n",
        "perceptron_results = []\n",
        "\n",
        "for lr in lr_rates:\n",
        "    for epochs in epochs_list:\n",
        "        weights, bias = train_perceptron(X_train_vec, np.array(y_train), learning_rate=lr, n_epochs=epochs)\n",
        "        y_pred = predict_perceptron(X_test_vec, weights, bias)\n",
        "        perceptron_results.append((lr, epochs, y_pred))\n",
        "\n",
        "print(\"Training Perceptron selesai untuk semua kombinasi learning rate dan epochs.\")\n",
        "\n",
        "# Menampilkan contoh prediksi untuk lr=0.01 dan epochs=1000\n",
        "idx = [(lr, ep) for lr in lr_rates for ep in epochs_list].index((0.01, 1000))\n",
        "print(f\"Contoh prediksi Perceptron untuk lr=0.01 dan epochs=1000: {perceptron_results[idx][2][:10]}\")\n"
      ]
    },
    {
      "cell_type": "markdown",
      "metadata": {
        "id": "7eI34cr9gI85"
      },
      "source": [
        "# Evaluasi Model"
      ]
    },
    {
      "cell_type": "code",
      "execution_count": 18,
      "metadata": {},
      "outputs": [
        {
          "name": "stdout",
          "output_type": "stream",
          "text": [
            "\n",
            "--- Memulai Tahap Evaluasi Model ---\n"
          ]
        }
      ],
      "source": [
        "print(\"\\n--- Memulai Tahap Evaluasi Model ---\")\n",
        "\n",
        "# Fungsi evaluasi metrik manual\n",
        "def calculate_metrics(y_true, y_pred):\n",
        "    true_positives = true_negatives = false_positives = false_negatives = 0\n",
        "    for i in range(len(y_true)):\n",
        "        if y_true[i] == 1 and y_pred[i] == 1:\n",
        "            true_positives += 1\n",
        "        elif y_true[i] == 0 and y_pred[i] == 0:\n",
        "            true_negatives += 1\n",
        "        elif y_true[i] == 0 and y_pred[i] == 1:\n",
        "            false_positives += 1\n",
        "        elif y_true[i] == 1 and y_pred[i] == 0:\n",
        "            false_negatives += 1\n",
        "\n",
        "    accuracy = (true_positives + true_negatives) / len(y_true)\n",
        "    precision = true_positives / (true_positives + false_positives) if (true_positives + false_positives) > 0 else 0\n",
        "    recall = true_positives / (true_positives + false_negatives) if (true_positives + false_negatives) > 0 else 0\n",
        "    f1_score = (2 * precision * recall) / (precision + recall) if (precision + recall) > 0 else 0\n",
        "\n",
        "    return accuracy, precision, recall, f1_score, true_positives, true_negatives, false_positives, false_negatives\n"
      ]
    },
    {
      "cell_type": "code",
      "execution_count": 19,
      "metadata": {},
      "outputs": [
        {
          "name": "stdout",
          "output_type": "stream",
          "text": [
            "\n",
            "--- Memulai Evaluasi Semua Model dari Semua Kombinasi Hyperparameter ---\n",
            "\n",
            "--- Hasil Evaluasi Model 1 (Multinomial Naive Bayes Baseline) ---\n",
            "Akurasi: 0.8977 | Presisi: 0.8455 | Recall: 0.9688 | F1-Score: 0.9029\n",
            "Confusion Matrix: TP=186, TN=165, FP=34, FN=6\n",
            "\n",
            "--- Hasil Terbaik Model 2 (Bernoulli Naive Bayes) ---\n",
            "Alpha: 0.01\n",
            "Akurasi: 0.8696 | Presisi: 0.9434 | Recall: 0.7812 | F1-Score: 0.8547\n",
            "Confusion Matrix: TP=150, TN=190, FP=9, FN=42\n",
            "\n",
            "--- Hasil Terbaik Model 3 (Logistic Regression Manual) ---\n",
            "Learning Rate: 0.1 | Epochs: 2000\n",
            "Akurasi: 0.8875 | Presisi: 0.9684 | Recall: 0.7969 | F1-Score: 0.8743\n",
            "Confusion Matrix: TP=153, TN=194, FP=5, FN=39\n",
            "\n",
            "--- Hasil Terbaik Model 4 (Perceptron Manual) ---\n",
            "Learning Rate: 0.1 | Epochs: 500\n",
            "Akurasi: 0.9079 | Presisi: 0.9432 | Recall: 0.8646 | F1-Score: 0.9022\n",
            "Confusion Matrix: TP=166, TN=189, FP=10, FN=26\n"
          ]
        }
      ],
      "source": [
        "print(\"\\n--- Memulai Evaluasi Semua Model dari Semua Kombinasi Hyperparameter ---\")\n",
        "\n",
        "acc1, prec1, rec1, f1_1, tp1, tn1, fp1, fn1 = calculate_metrics(y_test, predictions_mnb_baseline)\n",
        "print(f\"\\n--- Hasil Evaluasi Model 1 (Multinomial Naive Bayes Baseline) ---\")\n",
        "print(f\"Akurasi: {acc1:.4f} | Presisi: {prec1:.4f} | Recall: {rec1:.4f} | F1-Score: {f1_1:.4f}\")\n",
        "print(f\"Confusion Matrix: TP={tp1}, TN={tn1}, FP={fp1}, FN={fn1}\")\n",
        "\n",
        "# Buat list hasil prediksi Bernoulli Naive Bayes dari alpha yang berbeda\n",
        "bnb_results = [\n",
        "    (0.01, y_pred_alpha_001),\n",
        "    (0.1, y_pred_alpha_01),\n",
        "    (1.0, y_pred_alpha_1),\n",
        "    (5.0, y_pred_alpha_5),\n",
        "    (10.0, y_pred_alpha_10)\n",
        "]\n",
        "\n",
        "best_bnb = None\n",
        "best_f1_bnb = -1\n",
        "\n",
        "for alpha, y_pred in bnb_results:\n",
        "    acc, prec, rec, f1, tp, tn, fp, fn = calculate_metrics(y_test, y_pred)\n",
        "    if f1 > best_f1_bnb:\n",
        "        best_f1_bnb = f1\n",
        "        best_bnb = (alpha, acc, prec, rec, f1, tp, tn, fp, fn)\n",
        "\n",
        "print(\"\\n--- Hasil Terbaik Model 2 (Bernoulli Naive Bayes) ---\")\n",
        "print(f\"Alpha: {best_bnb[0]}\")\n",
        "print(f\"Akurasi: {best_bnb[1]:.4f} | Presisi: {best_bnb[2]:.4f} | Recall: {best_bnb[3]:.4f} | F1-Score: {best_bnb[4]:.4f}\")\n",
        "print(f\"Confusion Matrix: TP={best_bnb[5]}, TN={best_bnb[6]}, FP={best_bnb[7]}, FN={best_bnb[8]}\")\n",
        "\n",
        "best_logreg = None\n",
        "best_f1_logreg = -1\n",
        "\n",
        "for i, (lr, epochs, y_pred) in enumerate(logreg_results):\n",
        "    acc, prec, rec, f1, tp, tn, fp, fn = calculate_metrics(y_test, y_pred)\n",
        "    if f1 > best_f1_logreg:\n",
        "        best_f1_logreg = f1\n",
        "        best_logreg = (lr, epochs, acc, prec, rec, f1, tp, tn, fp, fn)\n",
        "\n",
        "print(\"\\n--- Hasil Terbaik Model 3 (Logistic Regression Manual) ---\")\n",
        "print(f\"Learning Rate: {best_logreg[0]} | Epochs: {best_logreg[1]}\")\n",
        "print(f\"Akurasi: {best_logreg[2]:.4f} | Presisi: {best_logreg[3]:.4f} | Recall: {best_logreg[4]:.4f} | F1-Score: {best_logreg[5]:.4f}\")\n",
        "print(f\"Confusion Matrix: TP={best_logreg[6]}, TN={best_logreg[7]}, FP={best_logreg[8]}, FN={best_logreg[9]}\")\n",
        "\n",
        "best_perceptron = None\n",
        "best_f1_perceptron = -1\n",
        "\n",
        "for i, (lr, epochs, y_pred) in enumerate(perceptron_results):\n",
        "    acc, prec, rec, f1, tp, tn, fp, fn = calculate_metrics(y_test, y_pred)\n",
        "    if f1 > best_f1_perceptron:\n",
        "        best_f1_perceptron = f1\n",
        "        best_perceptron = (lr, epochs, acc, prec, rec, f1, tp, tn, fp, fn)\n",
        "\n",
        "print(\"\\n--- Hasil Terbaik Model 4 (Perceptron Manual) ---\")\n",
        "print(f\"Learning Rate: {best_perceptron[0]} | Epochs: {best_perceptron[1]}\")\n",
        "print(f\"Akurasi: {best_perceptron[2]:.4f} | Presisi: {best_perceptron[3]:.4f} | Recall: {best_perceptron[4]:.4f} | F1-Score: {best_perceptron[5]:.4f}\")\n",
        "print(f\"Confusion Matrix: TP={best_perceptron[6]}, TN={best_perceptron[7]}, FP={best_perceptron[8]}, FN={best_perceptron[9]}\")\n"
      ]
    },
    {
      "cell_type": "markdown",
      "metadata": {},
      "source": [
        "# Visualisasi Perbandingan Metrik (jika Matplotlib diizinkan)"
      ]
    },
    {
      "cell_type": "code",
      "execution_count": 20,
      "metadata": {},
      "outputs": [
        {
          "data": {
            "image/png": "[encoded data removed]",
            "text/plain": [
              "<Figure size 1000x600 with 1 Axes>"
            ]
          },
          "metadata": {},
          "output_type": "display_data"
        }
      ],
      "source": [
        "model_names = ['Multinomial NB', 'Bernoulli NB', 'Logistic Regression', 'Perceptron']\n",
        "accuracies = [acc1, best_bnb[1], best_logreg[2], best_perceptron[2]]\n",
        "precisions = [prec1, best_bnb[2], best_logreg[3], best_perceptron[3]]\n",
        "recalls = [rec1, best_bnb[3], best_logreg[4], best_perceptron[4]]\n",
        "f1_scores = [f1_1, best_bnb[4], best_logreg[5], best_perceptron[5]]\n",
        "\n",
        "x = range(len(model_names))\n",
        "width = 0.2\n",
        "\n",
        "plt.figure(figsize=(10,6))\n",
        "bars_acc = plt.bar([p - 1.5*width for p in x], accuracies, width, label='Accuracy')\n",
        "bars_prec = plt.bar([p - 0.5*width for p in x], precisions, width, label='Precision')\n",
        "bars_rec = plt.bar([p + 0.5*width for p in x], recalls, width, label='Recall')\n",
        "bars_f1 = plt.bar([p + 1.5*width for p in x], f1_scores, width, label='F1-Score')\n",
        "\n",
        "plt.xticks(x, model_names)\n",
        "plt.ylabel('Score')\n",
        "plt.title('Perbandingan Performa Model Terbaik')\n",
        "plt.ylim(0, 1)\n",
        "plt.legend()\n",
        "plt.grid(axis='y', linestyle='--', alpha=0.7)\n",
        "\n",
        "def autolabel(bars):\n",
        "    for bar in bars:\n",
        "        height = bar.get_height()\n",
        "        plt.text(bar.get_x() + bar.get_width()/2., height + 0.02,\n",
        "                 f'{height:.3f}', ha='center', va='bottom', fontsize=9)\n",
        "\n",
        "autolabel(bars_acc)\n",
        "autolabel(bars_prec)\n",
        "autolabel(bars_rec)\n",
        "autolabel(bars_f1)\n",
        "\n",
        "plt.tight_layout()\n",
        "plt.show()\n"
      ]
    },
    {
      "cell_type": "markdown",
      "metadata": {
        "id": "unrRRM6qgXDS"
      },
      "source": [
        "# Testing manual"
      ]
    },
    {
      "cell_type": "code",
      "execution_count": 21,
      "metadata": {
        "colab": {
          "base_uri": "https://localhost:8080/"
        },
        "id": "LphcLT1jgYLr",
        "outputId": "744d6603-275e-436c-deb5-dd9e744a0e12"
      },
      "outputs": [
        {
          "name": "stdout",
          "output_type": "stream",
          "text": [
            "\n",
            "--- Sistem Prediksi Komentar Spam (Command Line Interface) ---\n",
            "\n",
            "Silakan masukkan komentar YouTube untuk diprediksi.\n",
            "Ketik 'exit' untuk keluar dari program.\n",
            "\n",
            "Terima kasih telah menggunakan sistem deteksi spam!\n"
          ]
        }
      ],
      "source": [
        "print(\"\\n--- Sistem Prediksi Komentar Spam (Command Line Interface) ---\")\n",
        "\n",
        "best_model = model_mnb_baseline\n",
        "\n",
        "print(\"\\nSilakan masukkan komentar YouTube untuk diprediksi.\")\n",
        "print(\"Ketik 'exit' untuk keluar dari program.\")\n",
        "\n",
        "while True:\n",
        "    user_comment = input(\"\\nKomentar Anda: \")\n",
        "    if user_comment.lower() == 'exit':\n",
        "        break\n",
        "\n",
        "    # Preprocessing komentar yang dimasukkan pengguna\n",
        "    processed_user_comment = preprocess_text_manual(user_comment)\n",
        "\n",
        "    # Prediksi menggunakan model terbaik\n",
        "    # Metode predict() di ManualNaiveBayes class mengambil list of comments,\n",
        "    # jadi masukkan processed_user_comment dalam list.\n",
        "    prediction_result = best_model.predict([processed_user_comment])[0]\n",
        "\n",
        "    if prediction_result == 1:\n",
        "        print(\"Prediksi: KOMENTAR INI KEMUNGKINAN SPAM.\")\n",
        "    else:\n",
        "        print(\"Prediksi: KOMENTAR INI KEMUNGKINAN BUKAN SPAM (HAM).\")\n",
        "\n",
        "print(\"\\nTerima kasih telah menggunakan sistem deteksi spam!\")"
      ]
    }
  ],
  "metadata": {
    "colab": {
      "provenance": []
    },
    "kernelspec": {
      "display_name": "Python 3",
      "name": "python3"
    },
    "language_info": {
      "codemirror_mode": {
        "name": "ipython",
        "version": 3
      },
      "file_extension": ".py",
      "mimetype": "text/x-python",
      "name": "python",
      "nbconvert_exporter": "python",
      "pygments_lexer": "ipython3",
      "version": "3.12.6"
    }
  },
  "nbformat": 4,
  "nbformat_minor": 0
}
